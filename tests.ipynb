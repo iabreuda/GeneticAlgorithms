{
 "cells": [
  {
   "cell_type": "code",
   "execution_count": 3,
   "metadata": {},
   "outputs": [],
   "source": [
    "import numpy as np\n",
    "import os \n",
    "import matplotlib.pyplot as plt \n",
    "%matplotlib inline "
   ]
  },
  {
   "cell_type": "markdown",
   "metadata": {},
   "source": [
    "## Population"
   ]
  },
  {
   "cell_type": "code",
   "execution_count": 132,
   "metadata": {},
   "outputs": [
    {
     "name": "stdout",
     "output_type": "stream",
     "text": [
      "[[1 0 1 1 0]\n",
      " [1 1 1 1 0]\n",
      " [1 0 1 1 1]\n",
      " [1 0 0 1 0]\n",
      " [0 1 1 1 1]]\n"
     ]
    }
   ],
   "source": [
    "def initializePopulationReal(dimension, lower, upper, initPopulation):\n",
    "    return (upper - lower)*(np.random.rand(initPopulation, dimension)) + lower\n",
    "\n",
    "def initializePopulationBin(dimension, initPopulation):\n",
    "    return np.random.randint(0, 2, size=(initPopulation, dimension))\n",
    "\n",
    "def initializerPopulationInteger(dimension, lower, upper, initPopulation):\n",
    "    return np.random.randint(lower, upper, size=(initPopulation, dimension))"
   ]
  },
  {
   "cell_type": "code",
   "execution_count": 133,
   "metadata": {},
   "outputs": [
    {
     "name": "stdout",
     "output_type": "stream",
     "text": [
      "[[0 1 1 0 1]\n",
      " [1 1 0 0 0]\n",
      " [1 1 1 0 1]\n",
      " [0 1 1 0 0]\n",
      " [0 1 1 1 1]]\n"
     ]
    }
   ],
   "source": [
    "print(initializePopulationBin(5, 5))"
   ]
  },
  {
   "cell_type": "markdown",
   "metadata": {},
   "source": [
    "## Crossover"
   ]
  },
  {
   "cell_type": "code",
   "execution_count": 158,
   "metadata": {},
   "outputs": [],
   "source": [
    "def onePointCrossOver(parent1, parent2, verbose=False):    \n",
    "    position = np.random.randint(1, parent1.shape[0])\n",
    "    print ('Onepoint Crossover position: ', position) if verbose else None\n",
    "    child1 = np.append(parent1[0:position], parent2[position:])\n",
    "    child2 = np.append(parent2[0:position], parent1[position:])\n",
    "    return child1, child2\n",
    "\n"
   ]
  },
  {
   "cell_type": "code",
   "execution_count": 157,
   "metadata": {},
   "outputs": [
    {
     "name": "stdout",
     "output_type": "stream",
     "text": [
      "Crossover position:  3\n",
      "parent1:  [3.52477826 0.24733939 0.76823075 2.25880498 2.93730054]\n",
      "parent2:  [2.7976272  4.69670429 4.37656476 1.73899378 2.2223635 ]\n",
      "child1:  [3.52477826 0.24733939 0.76823075 1.73899378 2.2223635 ]\n",
      "child2:  [2.7976272  4.69670429 4.37656476 2.25880498 2.93730054]\n"
     ]
    }
   ],
   "source": [
    "# def main():\n",
    "parent1 = initializePopulationReal(5, 0 ,5, 1)[0]\n",
    "parent2 =  initializePopulationReal(5, 0 ,5, 1)[0]\n",
    "child1, child2 = onePointCrossOver(parent1, parent2, True)\n",
    "print ('parent1: ', parent1)\n",
    "print ('parent2: ', parent2)\n",
    "print ('child1: ', child1)\n",
    "print ('child2: ', child2)"
   ]
  },
  {
   "cell_type": "markdown",
   "metadata": {},
   "source": [
    "## Mutation"
   ]
  },
  {
   "cell_type": "code",
   "execution_count": 159,
   "metadata": {},
   "outputs": [
    {
     "data": {
      "text/plain": [
       "array([[1, 2],\n",
       "       [3, 4]])"
      ]
     },
     "execution_count": 159,
     "metadata": {},
     "output_type": "execute_result"
    }
   ],
   "source": [
    "arr = np.array([[1, 2], [3, 4]])\n",
    "arr"
   ]
  },
  {
   "cell_type": "code",
   "execution_count": 216,
   "metadata": {},
   "outputs": [
    {
     "data": {
      "text/plain": [
       "array([[1, 1],\n",
       "       [0, 0]])"
      ]
     },
     "execution_count": 216,
     "metadata": {},
     "output_type": "execute_result"
    }
   ],
   "source": [
    "probability = 0.5\n",
    "arr = np.array([[1, 0], [0, 1]])\n",
    "def binaryMutation(parent, probability):\n",
    "    mutate = lambda x: 1-x if (np.random.rand() < probability) else x\n",
    "    return np.vectorize(mutate)(parent)\n",
    "\n",
    "binaryMutation(arr, probability)"
   ]
  },
  {
   "cell_type": "code",
   "execution_count": 126,
   "metadata": {},
   "outputs": [],
   "source": [
    "dim = 20\n",
    "x = np.array([1, 2, 3])"
   ]
  },
  {
   "cell_type": "markdown",
   "metadata": {},
   "source": [
    "## Evaluations \n",
    "### 1: Rotated High Conditioned Elliptic Function "
   ]
  },
  {
   "cell_type": "code",
   "execution_count": 25,
   "metadata": {},
   "outputs": [
    {
     "name": "stdout",
     "output_type": "stream",
     "text": [
      "[-54.05083069  47.08552651 -30.20559327]\n"
     ]
    },
    {
     "data": {
      "text/plain": [
       "array([154.05083069,  52.91447349, 130.20559327])"
      ]
     },
     "execution_count": 25,
     "metadata": {},
     "output_type": "execute_result"
    }
   ],
   "source": [
    "def shiftVector(x, function_number):\n",
    "    \"\"\" Offsets all elements of vector x by elements of vector offset \"\"\"    \n",
    "    offset = np.loadtxt('./input_data/shift_data_{}.txt'.format(function_number))[:len(x)]        \n",
    "    return np.array(x)-offset\n",
    "\n",
    "shiftVector([100, 100, 100], 2)"
   ]
  },
  {
   "cell_type": "code",
   "execution_count": 39,
   "metadata": {},
   "outputs": [],
   "source": [
    "def rotateVector(x, function_number):    \n",
    "    rotation = np.loadtxt('./input_data/M_{}_D{}.txt'.format(function_number, len(x)))            \n",
    "    return np.array(x).dot(rotation)"
   ]
  },
  {
   "cell_type": "code",
   "execution_count": 43,
   "metadata": {},
   "outputs": [
    {
     "data": {
      "text/plain": [
       "array([ 0.99982795, -0.01854918])"
      ]
     },
     "execution_count": 43,
     "metadata": {},
     "output_type": "execute_result"
    }
   ],
   "source": [
    "rotateVector([1,0], 9)"
   ]
  },
  {
   "cell_type": "code",
   "execution_count": 47,
   "metadata": {},
   "outputs": [
    {
     "name": "stdout",
     "output_type": "stream",
     "text": [
      "[-54.05083069  47.08552651]\n"
     ]
    },
    {
     "data": {
      "text/plain": [
       "array([372.41140687, 724.29258076])"
      ]
     },
     "execution_count": 47,
     "metadata": {},
     "output_type": "execute_result"
    }
   ],
   "source": [
    "def shiftRotateVector(x, function_number, shift_flag=True, rotate_flag=True, shift_rate=1): \n",
    "    \"\"\" :param x (np.array): \n",
    "        :param offset (np.array): \n",
    "        :rotation (np.array): rotation matrix\n",
    "        :shift_flag (boolean): \n",
    "        :rotate_flag (boolean): \n",
    "        :shift_rate (float): \n",
    "    \"\"\"\n",
    "\n",
    "    if (shift_flag):   \n",
    "        x_shift = shiftVector(x, function_number)\n",
    "        # Shrink to the original search space \n",
    "        x_shrink = shift_rate*x_shift\n",
    "        if not rotate_flag:\n",
    "            return x_shrink\n",
    "        return rotateVector(x_shrink, function_number)        \n",
    "    \n",
    "    # Shrink to the original search space \n",
    "    x_shrink = shift_rate*x    \n",
    "    if not rotate_flag:\n",
    "        return x_shrink\n",
    "\n",
    "    return shiftVector(x_shrink, function_number)\n",
    "\n",
    "shiftRotateVector([100, 100], 2, shift_rate=5)"
   ]
  },
  {
   "cell_type": "code",
   "execution_count": 95,
   "metadata": {},
   "outputs": [],
   "source": [
    "def highConditionedElliptic(x, dim):\n",
    "    assert dim > 0\n",
    "    res = 0\n",
    "    for i, x_i in enumerate(x):\n",
    "        res += (1e6)**((i-1)/(dim-1))*x_i**2\n",
    "    \n",
    "    return res "
   ]
  },
  {
   "cell_type": "code",
   "execution_count": 117,
   "metadata": {},
   "outputs": [],
   "source": [
    "arr = np.arange(-100, 101, 1)\n",
    "z = np.zeros((arr.shape[0], arr.shape[0]))\n",
    "for i, x_i in enumerate(arr):\n",
    "    for j, y_j in enumerate(arr):\n",
    "        z[i][j] = rotatedHighConditionedElliptic([x_i, y_j], dim)"
   ]
  },
  {
   "cell_type": "code",
   "execution_count": 125,
   "metadata": {},
   "outputs": [
    {
     "data": {
      "image/png": "[encoded data removed]",
      "text/plain": [
       "<Figure size 720x720 with 1 Axes>"
      ]
     },
     "metadata": {
      "needs_background": "light"
     },
     "output_type": "display_data"
    }
   ],
   "source": [
    "fig, ax = plt.subplots(figsize=(10,10))\n",
    "ax.pcolormesh(z)\n",
    "ax.grid(True)"
   ]
  },
  {
   "cell_type": "markdown",
   "metadata": {},
   "source": [
    "### Weierstrass"
   ]
  },
  {
   "cell_type": "code",
   "execution_count": 15,
   "metadata": {},
   "outputs": [
    {
     "data": {
      "text/plain": [
       "33.99996757507324"
      ]
     },
     "execution_count": 15,
     "metadata": {},
     "output_type": "execute_result"
    }
   ],
   "source": [
    "def weierstrass(x, dim, a = .5, b=3, k_max=20):\n",
    "    sum_a, sum_b = 0, 0    \n",
    "    for i, x_i in enumerate(x):\n",
    "        for k in np.arange(k_max):\n",
    "            sum_a += (a**k)*np.cos(2*np.pi*(b**k)*(x_i+0.5))\n",
    "    for k in np.arange(k_max):\n",
    "        sum_b += (a**k)*np.cos(2*np.pi*(b**k)*0.5)\n",
    "        \n",
    "    return sum_a-dim*sum_b\n",
    "    \n",
    "weierstrass(x, dim)\n"
   ]
  },
  {
   "cell_type": "markdown",
   "metadata": {},
   "source": [
    "### Griewank"
   ]
  },
  {
   "cell_type": "code",
   "execution_count": 24,
   "metadata": {},
   "outputs": [
    {
     "data": {
      "text/plain": [
       "1.0035"
      ]
     },
     "execution_count": 24,
     "metadata": {},
     "output_type": "execute_result"
    }
   ],
   "source": [
    "def griewank(x, dim)\n",
    "    x = np.array(x[:dim])\n",
    "    prod = 0\n",
    "    for i, x_i in enumerate(x):\n",
    "        prod *= np.cos(x_i/np.sqrt(i+1))\n",
    "\n",
    "    1/4000.0*np.sum((x**2))-prod+1"
   ]
  },
  {
   "cell_type": "markdown",
   "metadata": {},
   "source": [
    "### Rastrigin"
   ]
  },
  {
   "cell_type": "code",
   "execution_count": 58,
   "metadata": {},
   "outputs": [
    {
     "data": {
      "text/plain": [
       "36.83033988749895"
      ]
     },
     "execution_count": 58,
     "metadata": {},
     "output_type": "execute_result"
    }
   ],
   "source": [
    "def rastrigin(x, dim):\n",
    "    assert dim > 0\n",
    "    x = np.array(x[:dim])\n",
    "    return np.sum(x**2-10*np.cos(2*np.pi*x)+10)\n",
    "\n",
    "rastrigin([1,2,.4, .7], 4)\n"
   ]
  },
  {
   "cell_type": "markdown",
   "metadata": {},
   "source": [
    "### HGBat Function"
   ]
  },
  {
   "cell_type": "code",
   "execution_count": 61,
   "metadata": {},
   "outputs": [
    {
     "data": {
      "text/plain": [
       "17.482443974006852"
      ]
     },
     "execution_count": 61,
     "metadata": {},
     "output_type": "execute_result"
    }
   ],
   "source": [
    "def hgbat(x, dim):\n",
    "    assert dim > 0\n",
    "    x = np.array(x)[:dim]\n",
    "    return np.sqrt(np.sum(x**2)**2-np.sum(x)**2)+(0.5*np.sum(x**2)+np.sum(x))/dim + 0.5\n",
    "dim = 3\n",
    "x = np.array([1,2,3])\n",
    "hgbat(x, dim)"
   ]
  },
  {
   "cell_type": "markdown",
   "metadata": {},
   "source": [
    "### Modified Schwefel"
   ]
  },
  {
   "cell_type": "code",
   "execution_count": 77,
   "metadata": {},
   "outputs": [
    {
     "data": {
      "text/plain": [
       "7124.477034369101"
      ]
     },
     "execution_count": 77,
     "metadata": {},
     "output_type": "execute_result"
    }
   ],
   "source": [
    "def modifiedSchwefel(x, dim):\n",
    "    assert dim > 0\n",
    "    x = np.array(x[:dim])    \n",
    "    res = 0\n",
    "    def g(z):\n",
    "        if abs(z) <= 500:\n",
    "            return z*np.sin(np.sqrt(abs(z)))\n",
    "        elif z > 500:\n",
    "            return (500 - z%500)*np.sin(np.sqrt(abs(500-z%500)))-((z-500)**2)/(10000*dim)\n",
    "        return (-500 + z%500)*np.sin(np.sqrt(abs(-500+z%500)))-((z+500)**2)/(10000*dim)\n",
    "    for x_i in x:\n",
    "        x_i = x_i+4.209687462275036e2\n",
    "        res += g(x_i)\n",
    "    \n",
    "    return 418.9829*dim-res\n",
    "    \n",
    "modifiedSchwefel(x, dim)"
   ]
  },
  {
   "cell_type": "markdown",
   "metadata": {},
   "source": [
    "### Expanded Scaffer F6"
   ]
  },
  {
   "cell_type": "code",
   "execution_count": 94,
   "metadata": {},
   "outputs": [
    {
     "data": {
      "text/plain": [
       "0.8359576882183244"
      ]
     },
     "execution_count": 94,
     "metadata": {},
     "output_type": "execute_result"
    }
   ],
   "source": [
    "def expandedScafferF6(x, dim):\n",
    "    assert dim > 0\n",
    "    x = np.array(x[:dim])\n",
    "    g = lambda x, y: .5+((np.sin(np.sqrt(x**2+y**2)))**2-0.5)/((1+.001*(x**2+y**2))**2)    \n",
    "    res = 0\n",
    "    for i in np.arange(len(x)-1):\n",
    "        res += g(x[i], x[i+1])\n",
    "    \n",
    "    return res + g(x[-1], x[0])\n",
    "\n",
    "expandedScafferF6(x, dim)"
   ]
  },
  {
   "cell_type": "code",
   "execution_count": 127,
   "metadata": {},
   "outputs": [],
   "source": [
    "f = lambda x: x**2\n",
    "\n",
    "def g(z):\n",
    "    print (z)\n",
    "    if abs(z) <= 500:\n",
    "        return z*np.sin(np.sqrt(abs(z)))\n",
    "    elif z > 500:\n",
    "        return (500 - z%500)*np.sin(np.sqrt(abs(500-z%500)))-((z-500)**2)/(10000*dim)\n",
    "    return (-500 + z%500)*np.sin(np.sqrt(abs(-500+z%500)))-((z+500)**2)/(10000*dim)\n",
    "\n"
   ]
  },
  {
   "cell_type": "code",
   "execution_count": 66,
   "metadata": {},
   "outputs": [
    {
     "ename": "NameError",
     "evalue": "name 'rotatedBentCigar' is not defined",
     "output_type": "error",
     "traceback": [
      "\u001b[1;31m---------------------------------------------------------------------------\u001b[0m",
      "\u001b[1;31mNameError\u001b[0m                                 Traceback (most recent call last)",
      "\u001b[1;32m<ipython-input-66-85117016a652>\u001b[0m in \u001b[0;36m<module>\u001b[1;34m()\u001b[0m\n\u001b[0;32m     10\u001b[0m     \u001b[1;32mreturn\u001b[0m \u001b[0mswitcher\u001b[0m\u001b[1;33m.\u001b[0m\u001b[0mget\u001b[0m\u001b[1;33m(\u001b[0m\u001b[0mfunction_number\u001b[0m\u001b[1;33m,\u001b[0m \u001b[1;32mlambda\u001b[0m\u001b[1;33m:\u001b[0m \u001b[1;34m\"Invalid function number: \"\u001b[0m \u001b[1;33m+\u001b[0m \u001b[0mstr\u001b[0m\u001b[1;33m(\u001b[0m\u001b[0mfunction_number\u001b[0m\u001b[1;33m)\u001b[0m\u001b[1;33m)\u001b[0m\u001b[1;33m\u001b[0m\u001b[0m\n\u001b[0;32m     11\u001b[0m \u001b[1;33m\u001b[0m\u001b[0m\n\u001b[1;32m---> 12\u001b[1;33m \u001b[0mgetCecFunction\u001b[0m\u001b[1;33m(\u001b[0m\u001b[1;36m1\u001b[0m\u001b[1;33m)\u001b[0m\u001b[1;33m\u001b[0m\u001b[0m\n\u001b[0m",
      "\u001b[1;32m<ipython-input-66-85117016a652>\u001b[0m in \u001b[0;36mgetCecFunction\u001b[1;34m(function_number)\u001b[0m\n\u001b[0;32m      2\u001b[0m     switcher = {\n\u001b[0;32m      3\u001b[0m         \u001b[1;36m1\u001b[0m\u001b[1;33m:\u001b[0m \u001b[0mrotatedHighConditionedElliptic\u001b[0m\u001b[1;33m,\u001b[0m\u001b[1;33m\u001b[0m\u001b[0m\n\u001b[1;32m----> 4\u001b[1;33m         \u001b[1;36m2\u001b[0m\u001b[1;33m:\u001b[0m \u001b[0mrotatedBentCigar\u001b[0m\u001b[1;33m,\u001b[0m\u001b[1;33m\u001b[0m\u001b[0m\n\u001b[0m\u001b[0;32m      5\u001b[0m         \u001b[1;36m6\u001b[0m\u001b[1;33m:\u001b[0m \u001b[0mshiftedRotatedWeierstrass\u001b[0m\u001b[1;33m,\u001b[0m\u001b[1;33m\u001b[0m\u001b[0m\n\u001b[0;32m      6\u001b[0m         \u001b[1;36m7\u001b[0m\u001b[1;33m:\u001b[0m \u001b[0mshiftedRotatedGriewank\u001b[0m\u001b[1;33m,\u001b[0m\u001b[1;33m\u001b[0m\u001b[0m\n",
      "\u001b[1;31mNameError\u001b[0m: name 'rotatedBentCigar' is not defined"
     ]
    }
   ],
   "source": [
    "def getCecFunction(function_number):\n",
    "    switcher = {\n",
    "        1: rotatedHighConditionedElliptic,\n",
    "        2: rotatedBentCigar,\n",
    "        6: shiftedRotatedWeierstrass,\n",
    "        7: shiftedRotatedGriewank,\n",
    "        9: shiftedRotatedRastrigin,\n",
    "        14: shiftRotatedHGBat\n",
    "    }\n",
    "    return switcher.get(function_number, lambda: \"Invalid function number: \" + str(function_number))\n",
    "\n",
    "getCecFunction(1)"
   ]
  }
 ],
 "metadata": {
  "kernelspec": {
   "display_name": "Python 3",
   "language": "python",
   "name": "python3"
  },
  "language_info": {
   "codemirror_mode": {
    "name": "ipython",
    "version": 3
   },
   "file_extension": ".py",
   "mimetype": "text/x-python",
   "name": "python",
   "nbconvert_exporter": "python",
   "pygments_lexer": "ipython3",
   "version": "3.6.4"
  }
 },
 "nbformat": 4,
 "nbformat_minor": 2
}
