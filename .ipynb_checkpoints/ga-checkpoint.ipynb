{
 "cells": [
  {
   "cell_type": "markdown",
   "metadata": {},
   "source": [
    "## Imports "
   ]
  },
  {
   "cell_type": "code",
   "execution_count": 14,
   "metadata": {},
   "outputs": [],
   "source": [
    "import population as p\n",
    "import mutation as m\n",
    "import crossover as c\n",
    "import evaluation as e\n",
    "import selection as s\n",
    "import numpy as np\n",
    "import itertools\n",
    "from utils import ProgressBar\n",
    "\n",
    "progbar = ProgressBar(elapsed_time=True)"
   ]
  },
  {
   "cell_type": "markdown",
   "metadata": {},
   "source": [
    "## Parameters"
   ]
  },
  {
   "cell_type": "code",
   "execution_count": 21,
   "metadata": {},
   "outputs": [],
   "source": [
    "lowerLimit = -100\n",
    "upperLimit = 100\n",
    "function_number = 1\n",
    "dim = 2\n",
    "initPopulation = 100\n",
    "generations_number = 1000\n",
    "selection_method = 'topNScore'\n",
    "parents_number = 5\n",
    "prob_crossover = .8\n",
    "crossover_method = 'onePointCrossOver'\n",
    "prob_mutation = .2\n",
    "elitism = 2"
   ]
  },
  {
   "cell_type": "markdown",
   "metadata": {},
   "source": [
    "## Genetic Algorithm"
   ]
  },
  {
   "cell_type": "code",
   "execution_count": 22,
   "metadata": {},
   "outputs": [
    {
     "name": "stdout",
     "output_type": "stream",
     "text": [
      "[0:00:20][##########] 99.90% "
     ]
    }
   ],
   "source": [
    "# Initializing generation\n",
    "generations = {'individuals': list(), 'evaluations': list()}\n",
    "generations['individuals'].append(p.initializePopulationReal(dimension=dim, lower=lowerLimit, upper=upperLimit, initPopulation=initPopulation))\n",
    "\n",
    "generation_eval = np.array([])\n",
    "for individual in generations['individuals'][0]:\n",
    "    generation_eval = np.append(generation_eval, e.cecFunction(function_number=function_number, x=individual, dim=dim)) \n",
    "generations['evaluations'].append(generation_eval)\n",
    "\n",
    "for index_curr_gen in np.arange(generations_number):    \n",
    "    progbar.update_progress(index_curr_gen/float(generations_number))\n",
    "    \n",
    "    # Selecting parents        \n",
    "    parents = s.makeSelection(generations['individuals'][index_curr_gen], \n",
    "                              generations['evaluations'][index_curr_gen], \n",
    "                              method=selection_method, N=parents_number, ascending=False)\n",
    "\n",
    "    # Making crossover\n",
    "    next_generation = list()\n",
    "    # Combining every parent 2x2\n",
    "    for combination in list(itertools.product(parents, parents)):\n",
    "        p1, p2 = combination[0], combination[1]\n",
    "        if not np.array_equal(p1,p2) and (np.random.rand() < prob_crossover):            \n",
    "            child1, child2 = c.makeCrossOver(p1, p2, crossover_method, verbose=False)\n",
    "            next_generation.append(child1)\n",
    "            next_generation.append(child2)\n",
    "    \n",
    "    # Mutation\n",
    "    for index, individual in enumerate(next_generation):\n",
    "        if (np.random.rand() < prob_mutation):\n",
    "            individual = m.uniformMutation(individual,0.2,lowerLimit, upperLimit)\n",
    "            next_generation[index] = individual\n",
    "\n",
    "    # Elitism\n",
    "    for best_parent in parents[:elitism]:\n",
    "        next_generation.append(best_parent)\n",
    "        \n",
    "    # Evaluating next generation\n",
    "    generation_eval = np.array([])\n",
    "    for individual in next_generation:\n",
    "        generation_eval = np.append(generation_eval, e.cecFunction(function_number, individual, dim))\n",
    "\n",
    "    next_generation = np.array(next_generation)    \n",
    "    \n",
    "    generations['individuals'].append(next_generation)\n",
    "    generations['evaluations'].append(generation_eval)\n",
    "        "
   ]
  },
  {
   "cell_type": "code",
   "execution_count": 23,
   "metadata": {},
   "outputs": [
    {
     "name": "stdout",
     "output_type": "stream",
     "text": [
      "Generations:  1001\n",
      "Last eval:  [1416910.31387516 1416910.31387516]\n",
      "Lowest eval:  1416910.3138751597\n",
      "Last Gen:  [[ 30.43262836 -27.56744214]\n",
      " [ 30.43262836 -27.56744214]]\n",
      "Best individual:  [ 30.43262836 -27.56744214]\n"
     ]
    }
   ],
   "source": [
    "last_generation = generations['individuals'][-1]\n",
    "last_generation_eval = generations['evaluations'][-1]\n",
    "print ('Generations: ', len(generations['individuals']))\n",
    "print ('Last eval: ', last_generation_eval)\n",
    "print ('Lowest eval: ', np.min(last_generation_eval))\n",
    "print ('Last Gen: ', last_generation)\n",
    "print ('Best individual: ', last_generation[np.argmin(last_generation_eval)])"
   ]
  }
 ],
 "metadata": {
  "kernelspec": {
   "display_name": "Python 3",
   "language": "python",
   "name": "python3"
  },
  "language_info": {
   "codemirror_mode": {
    "name": "ipython",
    "version": 3
   },
   "file_extension": ".py",
   "mimetype": "text/x-python",
   "name": "python",
   "nbconvert_exporter": "python",
   "pygments_lexer": "ipython3",
   "version": "3.7.3"
  }
 },
 "nbformat": 4,
 "nbformat_minor": 2
}
